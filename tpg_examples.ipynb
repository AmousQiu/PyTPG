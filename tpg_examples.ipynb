{
 "cells": [
  {
   "cell_type": "markdown",
   "metadata": {},
   "source": [
    "# TPG Examples\n",
    "This document shows how to use the PyTPG API. We make use of OpenAI Gym to run examples, and we assume you already have PyTPG installed, see the readme for installation instructions for PyTPG."
   ]
  },
  {
   "cell_type": "markdown",
   "metadata": {},
   "source": [
    "## General Setup"
   ]
  },
  {
   "cell_type": "code",
   "execution_count": 1,
   "metadata": {
    "collapsed": true
   },
   "outputs": [],
   "source": [
    "from __future__ import division\n",
    "from IPython.display import clear_output\n",
    "import numpy as np\n",
    "import gym\n",
    "import matplotlib.pyplot as plt\n",
    "from IPython import display\n",
    "\n",
    "# how to render in Jupyter: \n",
    "# https://stackoverflow.com/questions/40195740/how-to-run-openai-gym-render-over-a-server\n",
    "# https://www.youtube.com/watch?v=O84KgRt6AJI\n",
    "def show_state(env, step=0, name='', info=''):\n",
    "    plt.figure(3)\n",
    "    plt.clf()\n",
    "    plt.imshow(env.render(mode='rgb_array'))\n",
    "    plt.title(\"%s | Step: %d %s\" % (name, step, info))\n",
    "    plt.axis('off')\n",
    "\n",
    "    display.clear_output(wait=True)\n",
    "    display.display(plt.gcf())\n",
    "    \n",
    "# To transform pixel matrix to a single vector.\n",
    "def getState(inState):\n",
    "    # each row is all 1 color\n",
    "    rgbRows = np.reshape(inState,(len(inState[0])*len(inState), 3)).T\n",
    "\n",
    "    # add each with appropriate shifting\n",
    "    # get RRRRRRRR GGGGGGGG BBBBBBBB\n",
    "    return np.add(np.left_shift(rgbRows[0], 16),\n",
    "        np.add(np.left_shift(rgbRows[1], 8), rgbRows[2]))"
   ]
  },
  {
   "cell_type": "code",
   "execution_count": 2,
   "metadata": {
    "collapsed": true,
    "scrolled": true
   },
   "outputs": [],
   "source": [
    "env = gym.make('Assault-v0') # make the environment"
   ]
  },
  {
   "cell_type": "code",
   "execution_count": 3,
   "metadata": {},
   "outputs": [
    {
     "name": "stdout",
     "output_type": "stream",
     "text": [
      "Discrete(7)\n"
     ]
    }
   ],
   "source": [
    "print(env.action_space) # learn size of action space"
   ]
  },
  {
   "cell_type": "code",
   "execution_count": 2,
   "metadata": {
    "collapsed": true
   },
   "outputs": [],
   "source": [
    "# import to do training\n",
    "from tpg.tpg_trainer import TpgTrainer\n",
    "# import to run an agent (always needed)\n",
    "from tpg.tpg_agent import TpgAgent"
   ]
  },
  {
   "cell_type": "markdown",
   "metadata": {},
   "source": [
    "## Example: Basic Generational Selection (with graphics)"
   ]
  },
  {
   "cell_type": "code",
   "execution_count": 5,
   "metadata": {},
   "outputs": [
    {
     "data": {
      "image/png": "[encoded data removed]",
      "text/plain": [
       "<Figure size 432x288 with 1 Axes>"
      ]
     },
     "metadata": {},
     "output_type": "display_data"
    },
    {
     "name": "stdout",
     "output_type": "stream",
     "text": [
      "Time Taken (Seconds): 822.2431526184082\n",
      "Results:\n",
      "Min, Max, Avg\n",
      "0.0 168.0 26.25\n",
      "0.0 168.0 51.333333333333336\n",
      "0.0 168.0 75.83333333333333\n"
     ]
    },
    {
     "data": {
      "image/png": "[encoded data removed]",
      "text/plain": [
       "<Figure size 432x288 with 1 Axes>"
      ]
     },
     "metadata": {},
     "output_type": "display_data"
    }
   ],
   "source": [
    "%matplotlib inline\n",
    "import time # for tracking time\n",
    "\n",
    "tStart = time.time()\n",
    "\n",
    "# first create an instance of the TpgTrainer\n",
    "# this creates the whole population and everything\n",
    "trainer = TpgTrainer(actions=range(7), teamPopSize=20)\n",
    "\n",
    "curScores = [] # hold scores in a generation\n",
    "summaryScores = [] # record score summaries for each gen (min, max, avg)\n",
    "\n",
    "# 3 generations isn't much (not even close), but some improvements\n",
    "# should be seen.\n",
    "for gen in range(3): # generation loop\n",
    "    curScores = [] # new list per gen\n",
    "    \n",
    "    while True: # loop to go through agents\n",
    "        teamNum = trainer.remainingAgents()\n",
    "        agent = trainer.getNextAgent()\n",
    "        if agent is None:\n",
    "            break # no more agents, so proceed to next gen\n",
    "        \n",
    "        # check if agent already has score\n",
    "        if agent.taskDone():\n",
    "            score = agent.getOutcome()\n",
    "        else:\n",
    "            state = env.reset() # get initial state and prep environment\n",
    "            score = 0\n",
    "            for i in range(200): # run episodes that last 200 frames\n",
    "                show_state(env, i, 'Assault', 'Gen #' + str(gen) + \n",
    "                           ', Team #' + str(teamNum) +\n",
    "                           ', Score: ' + str(score)) # render env\n",
    "\n",
    "                # must transform to at-least int-32 (for my getState to bitshift correctly)\n",
    "                act = agent.act(getState(np.array(state, dtype=np.int32))) # get action from agent\n",
    "\n",
    "                # feedback from env\n",
    "                state, reward, isDone, debug = env.step(act)\n",
    "                score += reward # accumulate reward in score\n",
    "                if isDone:\n",
    "                    break # end early if losing state\n",
    "\n",
    "            agent.reward(score) # must reward agent (if didn't already score)\n",
    "            \n",
    "        curScores.append(score) # store score\n",
    "            \n",
    "    # at end of generation, make summary of scores\n",
    "    summaryScores.append((min(curScores), max(curScores),\n",
    "                    sum(curScores)/len(curScores))) # min, max, avg\n",
    "    trainer.evolve()\n",
    "    \n",
    "#clear_output(wait=True)\n",
    "print('Time Taken (Seconds): ' + str(time.time() - tStart))\n",
    "print('Results:\\nMin, Max, Avg')\n",
    "for result in summaryScores:\n",
    "    print(result[0],result[1],result[2])"
   ]
  },
  {
   "cell_type": "markdown",
   "metadata": {},
   "source": [
    "## Example: Generational Selection with Multiprocessing (no graphics)"
   ]
  },
  {
   "cell_type": "markdown",
   "metadata": {},
   "source": [
    "This example is just to show a different way to run the API, a far superior way. It uses a different method to get the agents, doesn't use graphics (but can), and uses multiprocessing."
   ]
  },
  {
   "cell_type": "code",
   "execution_count": 3,
   "metadata": {
    "collapsed": true
   },
   "outputs": [],
   "source": [
    "\"\"\"\n",
    "Run each agent in this method for parallization.\n",
    "Args:\n",
    "    args: (TpgAgent, envName, scoreList, numEpisodes, numFrames)\n",
    "\"\"\"\n",
    "def runAgent(args):\n",
    "    agent = args[0]\n",
    "    envName = args[1]\n",
    "    scoreList = args[2]\n",
    "    numEpisodes = args[3] # number of times to repeat game\n",
    "    numFrames = args[4] \n",
    "    \n",
    "    # skip if task already done by agent\n",
    "    if agent.taskDone(envName+'-'+str(numFrames)):\n",
    "        print('Agent #' + str(agent.getAgentNum()) + ' can skip.')\n",
    "        scoreList.append((agent.getUid(), agent.getOutcomes()))\n",
    "        return\n",
    "    \n",
    "    env = gym.make(envName)\n",
    "    valActs = range(env.action_space.n) # valid actions, some envs are less\n",
    "    \n",
    "    scoreTotal = 0 # score accumulates over all episodes\n",
    "    for ep in range(numEpisodes): # episode loop\n",
    "        state = env.reset()\n",
    "        scoreEp = 0\n",
    "        numRandFrames = 0\n",
    "        if numEpisodes > 1:\n",
    "            numRandFrames = random.randint(0,30)\n",
    "        for i in range(numFrames): # frame loop\n",
    "            if i < numRandFrames:\n",
    "                _, _, isDone, _ = env.step(env.action_space.sample())\n",
    "                if isDone: # don't count it if lose on random steps\n",
    "                    ep -= 1\n",
    "                continue\n",
    "\n",
    "            act = agent.act(getState(state), valActs=valActs)\n",
    "\n",
    "            # feedback from env\n",
    "            state, reward, isDone, debug = env.step(act)\n",
    "            scoreEp += reward # accumulate reward in score\n",
    "            if isDone:\n",
    "                break # end early if losing state\n",
    "                \n",
    "        print('Agent #' + str(agent.getAgentNum()) + \n",
    "              ' | Ep #' + str(ep) + ' | Score: ' + str(scoreEp))\n",
    "        scoreTotal += scoreEp\n",
    "       \n",
    "    scoreTotal /= numEpisodes\n",
    "    env.close()\n",
    "    agent.reward(scoreTotal, envName+'-'+str(numFrames))\n",
    "    scoreList.append((agent.getUid(), agent.getOutcomes()))"
   ]
  },
  {
   "cell_type": "code",
   "execution_count": 4,
   "metadata": {},
   "outputs": [
    {
     "name": "stdout",
     "output_type": "stream",
     "text": [
      "Time Taken (Seconds): 74705.58649253845\n",
      "Results:\n",
      "Min, Max, Avg\n",
      "-100.0 4.0 -56.041666666666664\n",
      "-100.0 4.0 -39.808176100628934\n",
      "-100.0 4.0 -34.87581699346405\n",
      "-100.0 4.0 -32.232081911262796\n",
      "-100.0 12.0 -30.470394736842106\n",
      "-100.0 12.0 -26.9198606271777\n",
      "-100.0 12.0 -25.136363636363637\n",
      "-100.0 17.0 -22.651079136690647\n",
      "-100.0 17.0 -19.98905109489051\n",
      "-100.0 21.0 -18.787003610108304\n",
      "-100.0 53.0 -12.796992481203008\n",
      "-100.0 53.0 -12.246268656716419\n",
      "-100.0 23.0 -14.75187969924812\n",
      "-100.0 53.0 -15.217391304347826\n",
      "-100.0 53.0 -13.988679245283018\n",
      "-100.0 53.0 -12.424242424242424\n",
      "-100.0 53.0 -12.742307692307692\n",
      "-100.0 53.0 -13.140221402214022\n",
      "-100.0 53.0 -9.390681003584229\n",
      "-100.0 53.0 -10.989169675090253\n",
      "-100.0 53.0 -10.025089605734767\n",
      "-100.0 53.0 -7.858181818181818\n",
      "-100.0 53.0 -10.069852941176471\n",
      "-100.0 53.0 -6.390070921985815\n",
      "-100.0 53.0 -5.663043478260869\n",
      "-100.0 55.0 -6.503521126760563\n",
      "-100.0 55.0 -5.653429602888087\n",
      "-100.0 55.0 -5.174377224199288\n",
      "-100.0 55.0 -5.240802675585284\n",
      "-100.0 55.0 -6.724014336917563\n"
     ]
    }
   ],
   "source": [
    "import multiprocessing as mp\n",
    "import time\n",
    "\n",
    "tStart = time.time()\n",
    "\n",
    "trainer = TpgTrainer(actions=range(7), teamPopSize=360)\n",
    "\n",
    "processes = 7 \n",
    "man = mp.Manager()\n",
    "pool = mp.Pool(processes=processes, maxtasksperchild=1)\n",
    "    \n",
    "allScores = [] # track all scores each generation\n",
    "\n",
    "for gen in range(30): # do 30 generations of training\n",
    "    scoreList = man.list()\n",
    "    \n",
    "    # get agents, noRef to not hold reference to trainer in each one\n",
    "    # don't need reference to trainer in multiprocessing\n",
    "    agents = trainer.getAllAgents(noRef=True) # swap out agents only at start of generation\n",
    "\n",
    "    # run the agents\n",
    "    pool.map(runAgent, \n",
    "        [(agent, 'Boxing-v0', scoreList, 1, 18000)\n",
    "        for agent in agents])\n",
    "    \n",
    "    # apply scores, must do this when multiprocessing\n",
    "    # because agents can't refer to trainer\n",
    "    teams = trainer.applyScores(scoreList)\n",
    "    # important to remember to set tasks right, unless not using task names\n",
    "    # task name set in runAgent()\n",
    "    trainer.evolve(tasks=['Boxing-v0-18000'], fitShare=False) # go into next gen\n",
    "    \n",
    "    # an easier way to track stats than the above example\n",
    "    scoreStats = trainer.scoreStats\n",
    "    allScores.append((scoreStats['min'], scoreStats['max'], scoreStats['average']))\n",
    "    \n",
    "    clear_output(wait=True)\n",
    "    print('Time Taken (Seconds): ' + str(time.time() - tStart))\n",
    "    print('Results so far: ' + str(allScores))\n",
    "    \n",
    "clear_output(wait=True)\n",
    "print('Time Taken (Seconds): ' + str(time.time() - tStart))\n",
    "print('Results:\\nMin, Max, Avg')\n",
    "for score in allScores:\n",
    "    print(score[0],score[1],score[2])"
   ]
  },
  {
   "cell_type": "markdown",
   "metadata": {},
   "source": [
    "For the results above, boxing is a particularly difficult game that takes a while for improvement. The max score will sometimes take a dip because the root team that had the max score may become a child of another root team during a mutation, making it no longer a root team. But this new mutation either shortly disapears if it is no good and the old root team is restored, or, it will perform well and stay for a while."
   ]
  },
  {
   "cell_type": "code",
   "execution_count": null,
   "metadata": {
    "collapsed": true
   },
   "outputs": [],
   "source": []
  },
  {
   "cell_type": "markdown",
   "metadata": {
    "collapsed": true
   },
   "source": [
    "## Tournament Selection (In progress)"
   ]
  },
  {
   "cell_type": "code",
   "execution_count": 4,
   "metadata": {
    "scrolled": true
   },
   "outputs": [
    {
     "name": "stdout",
     "output_type": "stream",
     "text": [
      "Time Taken (Seconds): 45202.94136309624\n",
      "Results: [(0, 16905.0, 50.91867469879518), (0, 31521.0, 99.43533123028391), (0, 47733.0, 157.01644736842104), (0, 59262.0, 196.2317880794702), (0, 63903.0, 215.16161616161617), (0, 66339.0, 230.34375), (0, 68754.0, 242.09154929577466), (0, 68460.0, 244.5), (0, 73290.0, 251.8556701030928), (0, 70371.0, 256.8284671532847)]\n"
     ]
    }
   ],
   "source": [
    "import multiprocessing as mp\n",
    "import time\n",
    "\n",
    "tStart = time.time()\n",
    "\n",
    "lock = mp.Lock()\n",
    "\n",
    "trainer = TpgTrainer(actions=range(7), teamPopSizeInit=360)\n",
    "\n",
    "processes = 4 # how many to run concurrently (4 is best for my local desktop)\n",
    "\n",
    "m = mp.Manager()\n",
    "envQueue = m.Queue()\n",
    "# each process needs its own environment\n",
    "for i in range(processes):\n",
    "    envQueue.put(gym.make('Assault-v0'))\n",
    "\n",
    "pool = mp.Pool(processes=processes)\n",
    "    \n",
    "summaryScores = [] # record score summaries for population\n",
    "    \n",
    "# tournament loop \n",
    "# 450 tournaments of size 8 approximately equals 10 generations\n",
    "# *at pop size 360\n",
    "for tourn in range(450): \n",
    "    scoreQueue = m.Queue() # hold agents when finish, to actually apply score\n",
    "\n",
    "    # run tournament\n",
    "    # skipTasks=[] so we get all agents, even if already scored,\n",
    "    # just to report the obtained score for all agents.\n",
    "    pool.map(runAgent, \n",
    "                 [(agent, envQueue, scoreQueue) \n",
    "                  for agent in trainer.getTournamentAgents()])\n",
    "    \n",
    "    scores = [] # convert scores into list\n",
    "    while not scoreQueue.empty():\n",
    "        scores.append(scoreQueue.get())\n",
    "    \n",
    "    # apply scores\n",
    "    teams = trainer.applyScores(scores) # get teams from trainer\n",
    "    trainer.evolve(tourneyTeams=teams,tasks=[]) # evolve tournament players\n",
    "    \n",
    "    # report score once equivalent to a generation\n",
    "    if (tourn+1) % 45 == 0:\n",
    "        scoreStats = trainer.generateScoreStats()\n",
    "\n",
    "        # at end of generation, make summary of scores\n",
    "        summaryScores.append((scoreStats['min'], \n",
    "                        scoreStats['max'],\n",
    "                        scoreStats['average'])) # min, max, avg\n",
    "\n",
    "        clear_output(wait=True)\n",
    "        print('Time Taken (Seconds): ' + str(time.time() - tStart))\n",
    "        print('Results so far: ' + str(summaryScores))\n",
    "    \n",
    "clear_output(wait=True)\n",
    "print('Time Taken (Seconds): ' + str(time.time() - tStart))\n",
    "print('Results: ' + str(summaryScores))"
   ]
  },
  {
   "cell_type": "code",
   "execution_count": null,
   "metadata": {
    "collapsed": true
   },
   "outputs": [],
   "source": []
  }
 ],
 "metadata": {
  "kernelspec": {
   "display_name": "Python [conda env:oaigym]",
   "language": "python",
   "name": "conda-env-oaigym-py"
  },
  "language_info": {
   "codemirror_mode": {
    "name": "ipython",
    "version": 2
   },
   "file_extension": ".py",
   "mimetype": "text/x-python",
   "name": "python",
   "nbconvert_exporter": "python",
   "pygments_lexer": "ipython2",
   "version": "2.7.15"
  }
 },
 "nbformat": 4,
 "nbformat_minor": 2
}
