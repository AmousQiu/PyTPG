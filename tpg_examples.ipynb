{
 "cells": [
  {
   "cell_type": "markdown",
   "metadata": {},
   "source": [
    "# TPG Examples\n",
    "This document shows how to use the PyTPG API. We make use of OpenAI Gym to run examples, and we assume you already have PyTPG installed, see the readme for installation instructions for PyTPG."
   ]
  },
  {
   "cell_type": "markdown",
   "metadata": {},
   "source": [
    "## General Setup"
   ]
  },
  {
   "cell_type": "code",
   "execution_count": 1,
   "metadata": {},
   "outputs": [],
   "source": [
    "from __future__ import division\n",
    "from IPython.display import clear_output\n",
    "import numpy as np\n",
    "import gym\n",
    "import matplotlib.pyplot as plt\n",
    "from IPython import display\n",
    "\n",
    "# how to render in Jupyter: \n",
    "# https://stackoverflow.com/questions/40195740/how-to-run-openai-gym-render-over-a-server\n",
    "# https://www.youtube.com/watch?v=O84KgRt6AJI\n",
    "def show_state(env, step=0, name='', info=''):\n",
    "    plt.figure(3)\n",
    "    plt.clf()\n",
    "    plt.imshow(env.render(mode='rgb_array'))\n",
    "    plt.title(\"%s | Step: %d %s\" % (name, step, info))\n",
    "    plt.axis('off')\n",
    "\n",
    "    display.clear_output(wait=True)\n",
    "    display.display(plt.gcf())\n",
    "    \n",
    "# To transform pixel matrix to a single vector.\n",
    "def getState(inState):\n",
    "    # each row is all 1 color\n",
    "    rgbRows = np.reshape(inState,(len(inState[0])*len(inState), 3)).T\n",
    "\n",
    "    # add each with appropriate shifting\n",
    "    # get RRRRRRRR GGGGGGGG BBBBBBBB\n",
    "    return np.add(np.left_shift(rgbRows[0], 16),\n",
    "        np.add(np.left_shift(rgbRows[1], 8), rgbRows[2]))"
   ]
  },
  {
   "cell_type": "code",
   "execution_count": 2,
   "metadata": {
    "scrolled": true
   },
   "outputs": [],
   "source": [
    "env = gym.make('Assault-v0') # make the environment"
   ]
  },
  {
   "cell_type": "code",
   "execution_count": 3,
   "metadata": {},
   "outputs": [
    {
     "name": "stdout",
     "output_type": "stream",
     "text": [
      "Discrete(7)\n"
     ]
    }
   ],
   "source": [
    "print(env.action_space) # learn size of action space"
   ]
  },
  {
   "cell_type": "code",
   "execution_count": 4,
   "metadata": {},
   "outputs": [],
   "source": [
    "# import to do training\n",
    "from tpg.trainer import Trainer\n",
    "# import to run an agent (always needed)\n",
    "from tpg.agent import Agent"
   ]
  },
  {
   "cell_type": "markdown",
   "metadata": {},
   "source": [
    "## Example: Basic Generational Selection (with graphics)"
   ]
  },
  {
   "cell_type": "code",
   "execution_count": 5,
   "metadata": {
    "scrolled": true
   },
   "outputs": [
    {
     "data": {
      "image/png": "[encoded data removed]",
      "text/plain": [
       "<Figure size 432x288 with 1 Axes>"
      ]
     },
     "metadata": {},
     "output_type": "display_data"
    },
    {
     "name": "stdout",
     "output_type": "stream",
     "text": [
      "Time Taken (Hours): 8926443.869876862\n",
      "Results:\n",
      "Min, Max, Avg\n",
      "0.0 336.0 54.6\n",
      "0.0 252.0 35.7\n",
      "0.0 399.0 135.54545454545453\n",
      "0.0 357.0 210.0\n",
      "0.0 378.0 175.63636363636363\n"
     ]
    },
    {
     "data": {
      "image/png": "[encoded data removed]",
      "text/plain": [
       "<Figure size 432x288 with 1 Axes>"
      ]
     },
     "metadata": {
      "needs_background": "light"
     },
     "output_type": "display_data"
    }
   ],
   "source": [
    "%matplotlib inline\n",
    "import time # for tracking time\n",
    "\n",
    "tStart = time.time()\n",
    "\n",
    "# first create an instance of the TpgTrainer\n",
    "# this creates the whole population and everything\n",
    "# teamPopSize should realistically be at-least 100\n",
    "trainer = Trainer(actions=range(7), teamPopSize=20, rTeamPopSize=20) \n",
    "\n",
    "curScores = [] # hold scores in a generation\n",
    "summaryScores = [] # record score summaries for each gen (min, max, avg)\n",
    "\n",
    "# 5 generations isn't much (not even close), but some improvements\n",
    "# should be seen.\n",
    "for gen in range(5): # generation loop\n",
    "    curScores = [] # new list per gen\n",
    "    \n",
    "    agents = trainer.getAgents()\n",
    "    \n",
    "    while True: # loop to go through agents\n",
    "        teamNum = len(agents)\n",
    "        agent = agents.pop()\n",
    "        if agent is None:\n",
    "            break # no more agents, so proceed to next gen\n",
    "        \n",
    "        state = env.reset() # get initial state and prep environment\n",
    "        score = 0\n",
    "        for i in range(500): # run episodes that last 500 frames\n",
    "            show_state(env, i, 'Assault', 'Gen #' + str(gen) + \n",
    "                       ', Team #' + str(teamNum) +\n",
    "                       ', Score: ' + str(score)) # render env\n",
    "            \n",
    "            # get action from agent\n",
    "            # must transform to at-least int-32 (for my getState to bitshift correctly)\n",
    "            act = agent.act(getState(np.array(state, dtype=np.int32))) \n",
    "\n",
    "            # feedback from env\n",
    "            state, reward, isDone, debug = env.step(act)\n",
    "            score += reward # accumulate reward in score\n",
    "            if isDone:\n",
    "                break # end early if losing state\n",
    "\n",
    "        agent.reward(score) # must reward agent (if didn't already score)\n",
    "            \n",
    "        curScores.append(score) # store score\n",
    "        \n",
    "        if len(agents) == 0:\n",
    "            break\n",
    "            \n",
    "    # at end of generation, make summary of scores\n",
    "    summaryScores.append((min(curScores), max(curScores),\n",
    "                    sum(curScores)/len(curScores))) # min, max, avg\n",
    "    trainer.evolve()\n",
    "    \n",
    "#clear_output(wait=True)\n",
    "print('Time Taken (Hours): ' + str((time.time() - tStart)*3600))\n",
    "print('Results:\\nMin, Max, Avg')\n",
    "for result in summaryScores:\n",
    "    print(result[0],result[1],result[2])"
   ]
  },
  {
   "cell_type": "markdown",
   "metadata": {},
   "source": [
    "## Example: Generational Selection with Multiprocessing (no graphics)"
   ]
  },
  {
   "cell_type": "markdown",
   "metadata": {},
   "source": [
    "This example is just to show a different way to run the API, a far superior way. It uses a different method to get the agents, doesn't use graphics (but can), and uses multiprocessing."
   ]
  },
  {
   "cell_type": "code",
   "execution_count": 6,
   "metadata": {},
   "outputs": [],
   "source": [
    "\"\"\"\n",
    "Run each agent in this method for parallization.\n",
    "Args:\n",
    "    args: (TpgAgent, envName, scoreList, numEpisodes, numFrames)\n",
    "\"\"\"\n",
    "def runAgent(args):\n",
    "    agent = args[0]\n",
    "    envName = args[1]\n",
    "    scoreList = args[2]\n",
    "    numEpisodes = args[3] # number of times to repeat game\n",
    "    numFrames = args[4] \n",
    "    \n",
    "    # skip if task already done by agent\n",
    "    if agent.taskDone(envName+'-'+str(numFrames)):\n",
    "        print('Agent #' + str(agent.agentNum) + ' can skip.')\n",
    "        scoreList.append((agent.team.id, agent.team.outcomes))\n",
    "        return\n",
    "    \n",
    "    env = gym.make(envName)\n",
    "    valActs = range(env.action_space.n) # valid actions, some envs are less\n",
    "    \n",
    "    scoreTotal = 0 # score accumulates over all episodes\n",
    "    for ep in range(numEpisodes): # episode loop\n",
    "        state = env.reset()\n",
    "        scoreEp = 0\n",
    "        numRandFrames = 0\n",
    "        if numEpisodes > 1:\n",
    "            numRandFrames = random.randint(0,30)\n",
    "        for i in range(numFrames): # frame loop\n",
    "            if i < numRandFrames:\n",
    "                _, _, isDone, _ = env.step(env.action_space.sample())\n",
    "                if isDone: # don't count it if lose on random steps\n",
    "                    ep -= 1\n",
    "                continue\n",
    "\n",
    "            act = agent.act(getState(state))\n",
    "\n",
    "            # feedback from env\n",
    "            state, reward, isDone, debug = env.step(act)\n",
    "            scoreEp += reward # accumulate reward in score\n",
    "            if isDone:\n",
    "                break # end early if losing state\n",
    "                \n",
    "        print('Agent #' + str(agent.agentNum) + \n",
    "              ' | Ep #' + str(ep) + ' | Score: ' + str(scoreEp))\n",
    "        scoreTotal += scoreEp\n",
    "       \n",
    "    scoreTotal /= numEpisodes\n",
    "    env.close()\n",
    "    agent.reward(scoreTotal, envName)\n",
    "    scoreList.append((agent.team.id, agent.team.outcomes))"
   ]
  },
  {
   "cell_type": "code",
   "execution_count": null,
   "metadata": {
    "scrolled": true
   },
   "outputs": [
    {
     "name": "stdout",
     "output_type": "stream",
     "text": [
      "Time Taken (Hours): 5834766.043281555\n",
      "Results so far: [(-100.0, 5.0, -47.205), (-100.0, -1.0, -34.75), (-100.0, 1.0, -33.1576354679803), (-100.0, 1.0, -32.432038834951456), (-100.0, 10.0, -31.102678571428573), (-100.0, 7.0, -34.291079812206576), (-100.0, 11.0, -29.08450704225352), (-100.0, 1.0, -30.162037037037038), (-100.0, 10.0, -35.02283105022831), (-100.0, 1.0, -29.61187214611872), (-100.0, 3.0, -27.193548387096776), (-100.0, 3.0, -28.34722222222222), (-100.0, 5.0, -35.15), (-100.0, 2.0, -34.56398104265403), (-100.0, 3.0, -31.91826923076923), (-100.0, 6.0, -26.727272727272727)]\n",
      "Time Taken (Hours): 5834766.043281555\n",
      "Results so far: [(-100.0, 5.0, -47.205), (-100.0, -1.0, -34.75), (-100.0, 1.0, -33.1576354679803), (-100.0, 1.0, -32.432038834951456), (-100.0, 10.0, -31.102678571428573), (-100.0, 7.0, -34.291079812206576), (-100.0, 11.0, -29.08450704225352), (-100.0, 1.0, -30.162037037037038), (-100.0, 10.0, -35.02283105022831), (-100.0, 1.0, -29.61187214611872), (-100.0, 3.0, -27.193548387096776), (-100.0, 3.0, -28.34722222222222), (-100.0, 5.0, -35.15), (-100.0, 2.0, -34.56398104265403), (-100.0, 3.0, -31.91826923076923), (-100.0, 6.0, -26.727272727272727)]\n",
      "Agent #50 | Ep #0 | Score: -25.0\n",
      "Agent #40 | Ep #0 | Score: -25.0\n",
      "Agent #0 | Ep #0 | Score: -25.0\n",
      "Agent #10 | Ep #0 | Score: -48.0\n",
      "Agent #30 | Ep #0 | Score: -25.0\n",
      "Agent #20 | Ep #0 | Score: -25.0\n",
      "Agent #51 | Ep #0 | Score: -41.0\n",
      "Agent #31 | Ep #0 | Score: -25.0\n",
      "Agent #41 | Ep #0 | Score: -25.0\n",
      "Agent #1 | Ep #0 | Score: -25.0\n",
      "Agent #11 | Ep #0 | Score: -14.0\n",
      "Agent #21 | Ep #0 | Score: -23.0\n",
      "Agent #52 | Ep #0 | Score: -25.0\n",
      "Agent #32 | Ep #0 | Score: -30.0\n",
      "Agent #42 | Ep #0 | Score: 3.0\n",
      "Agent #12 | Ep #0 | Score: -36.0\n",
      "Agent #2 | Ep #0 | Score: -25.0\n",
      "Agent #22 | Ep #0 | Score: -25.0\n",
      "Agent #53 | Ep #0 | Score: -25.0\n",
      "Agent #3 | Ep #0 | Score: -9.0\n",
      "Agent #13 | Ep #0 | Score: 0.0\n",
      "Agent #33 | Ep #0 | Score: -1.0\n",
      "Agent #43 | Ep #0 | Score: -25.0\n",
      "Agent #23 | Ep #0 | Score: -8.0\n",
      "Agent #54 | Ep #0 | Score: -25.0\n",
      "Agent #14 | Ep #0 | Score: -19.0\n",
      "Agent #34 | Ep #0 | Score: -1.0\n",
      "Agent #4 | Ep #0 | Score: -25.0\n",
      "Agent #44 | Ep #0 | Score: -25.0\n",
      "Agent #24 | Ep #0 | Score: -25.0\n",
      "Agent #55 | Ep #0 | Score: -25.0\n",
      "Agent #15 | Ep #0 | Score: -25.0\n",
      "Agent #35 | Ep #0 | Score: -9.0\n",
      "Agent #45 | Ep #0 | Score: -25.0\n",
      "Agent #5 | Ep #0 | Score: -22.0\n",
      "Agent #25 | Ep #0 | Score: -25.0\n",
      "Agent #56 | Ep #0 | Score: -25.0\n",
      "Agent #16 | Ep #0 | Score: -25.0\n",
      "Agent #46 | Ep #0 | Score: -25.0\n",
      "Agent #36 | Ep #0 | Score: -25.0\n",
      "Agent #6 | Ep #0 | Score: -41.0\n",
      "Agent #26 | Ep #0 | Score: -25.0\n",
      "Agent #57 | Ep #0 | Score: -6.0\n",
      "Agent #17 | Ep #0 | Score: -25.0\n",
      "Agent #47 | Ep #0 | Score: -25.0\n",
      "Agent #7 | Ep #0 | Score: -25.0\n",
      "Agent #37 | Ep #0 | Score: -5.0\n",
      "Agent #27 | Ep #0 | Score: -25.0\n",
      "Agent #58 | Ep #0 | Score: -25.0\n",
      "Agent #8 | Ep #0 | Score: -25.0\n",
      "Agent #18 | Ep #0 | Score: -54.0\n",
      "Agent #48 | Ep #0 | Score: -25.0\n",
      "Agent #38 | Ep #0 | Score: -25.0\n",
      "Agent #59 | Ep #0 | Score: 0.0\n",
      "Agent #28 | Ep #0 | Score: -25.0\n",
      "Agent #9 | Ep #0 | Score: -25.0\n",
      "Agent #19 | Ep #0 | Score: -25.0\n",
      "Agent #49 | Ep #0 | Score: -25.0\n",
      "Agent #39 | Ep #0 | Score: -25.0\n",
      "Agent #60 | Ep #0 | Score: -19.0\n",
      "Agent #29 | Ep #0 | Score: -23.0\n",
      "Agent #70 | Ep #0 | Score: -25.0\n",
      "Agent #80 | Ep #0 | Score: -25.0\n",
      "Agent #90 | Ep #0 | Score: 0.0\n",
      "Agent #61 | Ep #0 | Score: -25.0\n",
      "Agent #100 | Ep #0 | Score: -25.0\n",
      "Agent #71 | Ep #0 | Score: -14.0\n",
      "Agent #110 | Ep #0 | Score: -25.0\n",
      "Agent #81 | Ep #0 | Score: -25.0\n",
      "Agent #62 | Ep #0 | Score: -25.0\n",
      "Agent #91 | Ep #0 | Score: 4.0\n",
      "Agent #101 | Ep #0 | Score: -19.0\n",
      "Agent #72 | Ep #0 | Score: -25.0\n",
      "Agent #63 | Ep #0 | Score: -22.0\n",
      "Agent #92 | Ep #0 | Score: -8.0\n",
      "Agent #111 | Ep #0 | Score: 0.0\n",
      "Agent #82 | Ep #0 | Score: -25.0\n",
      "Agent #102 | Ep #0 | Score: -30.0\n",
      "Agent #73 | Ep #0 | Score: -25.0\n",
      "Agent #93 | Ep #0 | Score: -9.0\n",
      "Agent #112 | Ep #0 | Score: -41.0\n",
      "Agent #64 | Ep #0 | Score: -22.0\n",
      "Agent #103 | Ep #0 | Score: -25.0\n",
      "Agent #83 | Ep #0 | Score: -8.0\n",
      "Agent #74 | Ep #0 | Score: -24.0\n",
      "Agent #94 | Ep #0 | Score: -37.0\n",
      "Agent #84 | Ep #0 | Score: -25.0\n",
      "Agent #113 | Ep #0 | Score: -25.0\n",
      "Agent #104 | Ep #0 | Score: -16.0\n",
      "Agent #65 | Ep #0 | Score: -25.0\n",
      "Agent #95 | Ep #0 | Score: -19.0\n",
      "Agent #75 | Ep #0 | Score: -4.0\n",
      "Agent #105 | Ep #0 | Score: -19.0\n",
      "Agent #114 | Ep #0 | Score: -20.0\n",
      "Agent #85 | Ep #0 | Score: -7.0\n",
      "Agent #66 | Ep #0 | Score: -25.0\n",
      "Agent #96 | Ep #0 | Score: -14.0\n",
      "Agent #76 | Ep #0 | Score: -25.0\n",
      "Agent #106 | Ep #0 | Score: -100.0\n",
      "Agent #86 | Ep #0 | Score: -7.0\n",
      "Agent #115 | Ep #0 | Score: -55.0\n",
      "Agent #67 | Ep #0 | Score: -25.0\n",
      "Agent #97 | Ep #0 | Score: -9.0\n",
      "Agent #77 | Ep #0 | Score: -25.0\n",
      "Agent #87 | Ep #0 | Score: -7.0\n"
     ]
    }
   ],
   "source": [
    "import multiprocessing as mp\n",
    "import time\n",
    "\n",
    "tStart = time.time()\n",
    "\n",
    "envName = 'Boxing-v0'\n",
    "# get num actions\n",
    "env = gym.make(envName)\n",
    "acts = env.action_space.n\n",
    "del env\n",
    "\n",
    "trainer = Trainer(actions=range(acts), teamPopSize=200, rTeamPopSize=200)\n",
    "\n",
    "processes = 6 \n",
    "man = mp.Manager()\n",
    "pool = mp.Pool(processes=processes, maxtasksperchild=1)\n",
    "    \n",
    "allScores = [] # track all scores each generation\n",
    "\n",
    "for gen in range(100): # do 30 generations of training\n",
    "    scoreList = man.list()\n",
    "    \n",
    "    # get agents, noRef to not hold reference to trainer in each one\n",
    "    # don't need reference to trainer in multiprocessing\n",
    "    agents = trainer.getAgents() # swap out agents only at start of generation\n",
    "\n",
    "    # run the agents\n",
    "    pool.map(runAgent, \n",
    "        [(agent, envName, scoreList, 1, 18000)\n",
    "        for agent in agents])\n",
    "    \n",
    "    # apply scores, must do this when multiprocessing\n",
    "    # because agents can't refer to trainer\n",
    "    teams = trainer.applyScores(scoreList)\n",
    "    # important to remember to set tasks right, unless not using task names\n",
    "    # task name set in runAgent()\n",
    "    trainer.evolve(task=envName) # go into next gen\n",
    "    \n",
    "    # an easier way to track stats than the above example\n",
    "    scoreStats = trainer.fitnessStats\n",
    "    allScores.append((scoreStats['min'], scoreStats['max'], scoreStats['average']))\n",
    "    \n",
    "    clear_output(wait=True)\n",
    "    print('Time Taken (Hours): ' + str((time.time() - tStart)*3600))\n",
    "    print('Results so far: ' + str(allScores))\n",
    "    \n",
    "clear_output(wait=True)\n",
    "print('Time Taken (Hours): ' + str((time.time() - tStart)*3600))\n",
    "print('Results:\\nMin, Max, Avg')\n",
    "for score in allScores:\n",
    "    print(score[0],score[1],score[2])"
   ]
  },
  {
   "cell_type": "markdown",
   "metadata": {},
   "source": [
    "For the results above, boxing is a particularly difficult game that takes a while for improvement. The max score will sometimes take a dip because the root team that had the max score may become a child of another root team during a mutation, making it no longer a root team. But this new mutation either shortly disapears if it is no good and the old root team is restored, or, it will perform well and stay for a while."
   ]
  }
 ],
 "metadata": {
  "kernelspec": {
   "display_name": "Python [conda env:oaigym] *",
   "language": "python",
   "name": "conda-env-oaigym-py"
  },
  "language_info": {
   "codemirror_mode": {
    "name": "ipython",
    "version": 3
   },
   "file_extension": ".py",
   "mimetype": "text/x-python",
   "name": "python",
   "nbconvert_exporter": "python",
   "pygments_lexer": "ipython3",
   "version": "3.7.3"
  }
 },
 "nbformat": 4,
 "nbformat_minor": 2
}
